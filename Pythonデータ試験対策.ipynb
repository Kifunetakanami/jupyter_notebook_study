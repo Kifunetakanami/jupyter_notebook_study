{
 "cells": [
  {
   "cell_type": "code",
   "execution_count": 1,
   "metadata": {},
   "outputs": [
    {
     "data": {
      "text/plain": [
       "[4, 3, 4]"
      ]
     },
     "execution_count": 1,
     "metadata": {},
     "output_type": "execute_result"
    }
   ],
   "source": [
    "names = ['spam', 'ham', 'eggs']\n",
    "lens = []\n",
    "for name in names:\n",
    "    lens.append(len(name))\n",
    "lens"
   ]
  },
  {
   "cell_type": "code",
   "execution_count": 2,
   "metadata": {},
   "outputs": [
    {
     "data": {
      "text/plain": [
       "[4, 3, 4]"
      ]
     },
     "execution_count": 2,
     "metadata": {},
     "output_type": "execute_result"
    }
   ],
   "source": [
    "names = ['spam', 'ham', 'eggs']\n",
    "[len(name) for name in names]"
   ]
  },
  {
   "cell_type": "code",
   "execution_count": 4,
   "metadata": {},
   "outputs": [
    {
     "name": "stdout",
     "output_type": "stream",
     "text": [
      "Kusanagi\n"
     ]
    }
   ],
   "source": [
    "import re\n",
    "prog = re.compile('Kus(a|u)n(a|o|k)g?i(saya|ro)?', re.IGNORECASE)\n",
    "ret = prog.search('Kusanagi saya')\n",
    "print(ret[0])"
   ]
  },
  {
   "cell_type": "code",
   "execution_count": 5,
   "metadata": {},
   "outputs": [
    {
     "name": "stdout",
     "output_type": "stream",
     "text": [
      "a\n"
     ]
    }
   ],
   "source": [
    "import re\n",
    "prog = re.compile('Kus(a|u)n(a|o|k)g?i(saya|ro)?', re.IGNORECASE)\n",
    "ret = prog.search('Kusanagi saya')\n",
    "print(ret[1])"
   ]
  },
  {
   "cell_type": "code",
   "execution_count": 6,
   "metadata": {},
   "outputs": [
    {
     "ename": "TypeError",
     "evalue": "'NoneType' object is not subscriptable",
     "output_type": "error",
     "traceback": [
      "\u001b[1;31m---------------------------------------------------------------------------\u001b[0m",
      "\u001b[1;31mTypeError\u001b[0m                                 Traceback (most recent call last)",
      "\u001b[1;32m<ipython-input-6-b70772ad9551>\u001b[0m in \u001b[0;36m<module>\u001b[1;34m\u001b[0m\n\u001b[0;32m      2\u001b[0m \u001b[0mprog\u001b[0m \u001b[1;33m=\u001b[0m \u001b[0mre\u001b[0m\u001b[1;33m.\u001b[0m\u001b[0mcompile\u001b[0m\u001b[1;33m(\u001b[0m\u001b[1;34m'Kus(a|u)n(a|o|k)g?i(saya|ro)?'\u001b[0m\u001b[1;33m,\u001b[0m \u001b[0mre\u001b[0m\u001b[1;33m.\u001b[0m\u001b[0mIGNORECASE\u001b[0m\u001b[1;33m)\u001b[0m\u001b[1;33m\u001b[0m\u001b[1;33m\u001b[0m\u001b[0m\n\u001b[0;32m      3\u001b[0m \u001b[0mret\u001b[0m \u001b[1;33m=\u001b[0m \u001b[0mprog\u001b[0m\u001b[1;33m.\u001b[0m\u001b[0msearch\u001b[0m\u001b[1;33m(\u001b[0m\u001b[1;34m'Kusunoki'\u001b[0m\u001b[1;33m)\u001b[0m\u001b[1;33m\u001b[0m\u001b[1;33m\u001b[0m\u001b[0m\n\u001b[1;32m----> 4\u001b[1;33m \u001b[0mprint\u001b[0m\u001b[1;33m(\u001b[0m\u001b[0mret\u001b[0m\u001b[1;33m[\u001b[0m\u001b[1;36m0\u001b[0m\u001b[1;33m]\u001b[0m\u001b[1;33m)\u001b[0m\u001b[1;33m\u001b[0m\u001b[1;33m\u001b[0m\u001b[0m\n\u001b[0m",
      "\u001b[1;31mTypeError\u001b[0m: 'NoneType' object is not subscriptable"
     ]
    }
   ],
   "source": [
    "import re\n",
    "prog = re.compile('Kus(a|u)n(a|o|k)g?i(saya|ro)?', re.IGNORECASE)\n",
    "ret = prog.search('Kusunoki')\n",
    "print(ret[0])\n",
    "\n",
    "# 'Kusunoki'では必須である'g'の文字がないためエラーが発生する"
   ]
  },
  {
   "cell_type": "code",
   "execution_count": 7,
   "metadata": {},
   "outputs": [],
   "source": [
    "# sinは正弦\n",
    "# cosは余弦\n",
    "# tanは正接"
   ]
  },
  {
   "cell_type": "code",
   "execution_count": 8,
   "metadata": {},
   "outputs": [],
   "source": [
    "# ravel関数とflatten関数は配列を一次元化するための関数\n",
    "# ravelメソッドは参照\n",
    "# flattenメソッドはコピー"
   ]
  },
  {
   "cell_type": "code",
   "execution_count": 1,
   "metadata": {},
   "outputs": [
    {
     "name": "stdout",
     "output_type": "stream",
     "text": [
      "[[5 6]] int32\n"
     ]
    }
   ],
   "source": [
    "import numpy as np\n",
    "a = np.array([[1,2,3],[4,5,6]])\n",
    "b = np.array([1,2,3])\n",
    "print(a[-1:, [1,2]], b.dtype)\n",
    "\n",
    "# 本当は'int64'になるはずだが、なぜか'int32'になってしまう…"
   ]
  },
  {
   "cell_type": "code",
   "execution_count": 2,
   "metadata": {},
   "outputs": [
    {
     "data": {
      "text/plain": [
       "array([[1., 0., 0., 0.],\n",
       "       [0., 1., 0., 0.],\n",
       "       [0., 0., 1., 0.],\n",
       "       [0., 0., 0., 1.]])"
      ]
     },
     "execution_count": 2,
     "metadata": {},
     "output_type": "execute_result"
    }
   ],
   "source": [
    "# np.eyeは単位行列を作る\n",
    "\n",
    "np.eye(4)"
   ]
  },
  {
   "cell_type": "code",
   "execution_count": 3,
   "metadata": {},
   "outputs": [
    {
     "data": {
      "text/plain": [
       "array([[1., 0., 0., 0., 0., 0.],\n",
       "       [0., 1., 0., 0., 0., 0.],\n",
       "       [0., 0., 1., 0., 0., 0.],\n",
       "       [0., 0., 0., 1., 0., 0.],\n",
       "       [0., 0., 0., 0., 1., 0.],\n",
       "       [0., 0., 0., 0., 0., 1.]])"
      ]
     },
     "execution_count": 3,
     "metadata": {},
     "output_type": "execute_result"
    }
   ],
   "source": [
    "np.eye(6)"
   ]
  },
  {
   "cell_type": "code",
   "execution_count": 4,
   "metadata": {},
   "outputs": [
    {
     "name": "stdout",
     "output_type": "stream",
     "text": [
      "[1 4 7]\n",
      "[[1. 0. 0. 0. 0.]\n",
      " [0. 1. 0. 0. 0.]\n",
      " [0. 0. 1. 0. 0.]\n",
      " [0. 0. 0. 1. 0.]\n",
      " [0. 0. 0. 0. 1.]]\n",
      "7 1.0\n"
     ]
    }
   ],
   "source": [
    "import numpy as np\n",
    "a = np.arange(1, 10, 3)\n",
    "b = np.eye(5)\n",
    "print(a)\n",
    "print(b)\n",
    "print(a[-1], b[2, 2])"
   ]
  },
  {
   "cell_type": "code",
   "execution_count": 5,
   "metadata": {},
   "outputs": [
    {
     "data": {
      "text/plain": [
       "array([[0., 0.]])"
      ]
     },
     "execution_count": 5,
     "metadata": {},
     "output_type": "execute_result"
    }
   ],
   "source": [
    "np.zeros((1, 2))"
   ]
  },
  {
   "cell_type": "code",
   "execution_count": 6,
   "metadata": {},
   "outputs": [
    {
     "data": {
      "text/plain": [
       "array([[1., 1.],\n",
       "       [1., 1.],\n",
       "       [1., 1.]])"
      ]
     },
     "execution_count": 6,
     "metadata": {},
     "output_type": "execute_result"
    }
   ],
   "source": [
    "np.ones((3,2))"
   ]
  },
  {
   "cell_type": "code",
   "execution_count": 7,
   "metadata": {},
   "outputs": [
    {
     "name": "stdout",
     "output_type": "stream",
     "text": [
      "[2.71828183 2.71828183 2.71828183 2.71828183 2.71828183]\n",
      "[0.   0.25 0.5  0.75 1.  ]\n",
      "[2.71828183 2.71828183 2.71828183 2.71828183 2.71828183 0.\n",
      " 0.25       0.5        0.75       1.        ]\n",
      "2.718281828459045 1.0\n"
     ]
    }
   ],
   "source": [
    "import numpy as np\n",
    "\n",
    "# aは1行5列で全ての値がネイピア数であり、1次元配列に変換\n",
    "a = np.full((1, 5), np.e).T.ravel()\n",
    "\n",
    "# bは0から1の間を5等分した配列を作る\n",
    "b = np.linspace(0, 1, 5)\n",
    "\n",
    "# cは\n",
    "c = np.hstack([a, b])\n",
    "print(a)\n",
    "print(b)\n",
    "print(c)\n",
    "print(a[-1], c[-1])\n",
    "\n",
    "# ネイピア数は2.71828182846\n",
    "\n",
    "# hstackは列方向に連結して増やす\n",
    "# vstackは行方向に連結して増やす\n",
    "\n",
    "# ただし今回は'T.ravel()'があることによってcは強制的に1次元配列に変換される"
   ]
  },
  {
   "cell_type": "code",
   "execution_count": 8,
   "metadata": {},
   "outputs": [
    {
     "name": "stdout",
     "output_type": "stream",
     "text": [
      "[   100   1000  10000 100000]\n",
      "[2. 3. 4. 5.]\n",
      "1000 4.0\n"
     ]
    }
   ],
   "source": [
    "import numpy as np\n",
    "a = np.array([0,9,99,999])\n",
    "a = a + 1\n",
    "a = a *100\n",
    "b = np.log10(a)\n",
    "print(a)\n",
    "print(b)\n",
    "print(a[1], b[2])"
   ]
  },
  {
   "cell_type": "code",
   "execution_count": 9,
   "metadata": {},
   "outputs": [
    {
     "name": "stdout",
     "output_type": "stream",
     "text": [
      "14\n",
      "[ 7 15]\n",
      "14 [ 7 15]\n"
     ]
    }
   ],
   "source": [
    "# ドット積(内積)の計算は'@'か'np.dot()'を使用する\n",
    "\n",
    "import numpy as np\n",
    "a = np.array([1, 3])\n",
    "b = np.array([-1, 5])\n",
    "c = np.array([[1, 2], [3, 4]])\n",
    "d = a @ b\n",
    "e = np.dot(c, a)\n",
    "\n",
    "print(d)\n",
    "print(e)\n",
    "print(d, e)"
   ]
  },
  {
   "cell_type": "code",
   "execution_count": 10,
   "metadata": {},
   "outputs": [
    {
     "name": "stdout",
     "output_type": "stream",
     "text": [
      "10\n"
     ]
    }
   ],
   "source": [
    "# 名前で指定は'loc'\n",
    "\n",
    "import pandas as pd\n",
    "df = pd.DataFrame([[15, 'a', True],[20, 'b', False], [10, 'c', False]])\n",
    "df.index = ['01', '02', '03']\n",
    "df.columns = ['A', 'B', 'C']\n",
    "a = df.loc['03', 'A']\n",
    "print(a)"
   ]
  },
  {
   "cell_type": "code",
   "execution_count": 11,
   "metadata": {},
   "outputs": [
    {
     "name": "stdout",
     "output_type": "stream",
     "text": [
      "10\n"
     ]
    }
   ],
   "source": [
    "# 数値で指定は'iloc'\n",
    "\n",
    "import pandas as pd\n",
    "df = pd.DataFrame([[15, 'a', True],[20, 'b', False], [10, 'c', False]])\n",
    "df.index = ['01', '02', '03']\n",
    "df.columns = ['A', 'B', 'C']\n",
    "a = df.iloc[2, 0]\n",
    "print(a)"
   ]
  },
  {
   "cell_type": "code",
   "execution_count": 12,
   "metadata": {},
   "outputs": [],
   "source": [
    "# バイナリファイルとはテキストファイル以外のもの"
   ]
  },
  {
   "cell_type": "code",
   "execution_count": 1,
   "metadata": {},
   "outputs": [],
   "source": [
    "# 'np.random.randint(1, 31, 365)'は1～30の整数を365個生成"
   ]
  },
  {
   "cell_type": "code",
   "execution_count": 2,
   "metadata": {},
   "outputs": [],
   "source": [
    "# 'データ.fillna(データ.median())'で欠損値の値を中央値で補完する"
   ]
  },
  {
   "cell_type": "code",
   "execution_count": 3,
   "metadata": {},
   "outputs": [],
   "source": [
    "# 'データ.fillna(method = 'ffill')'で欠損値の値を1つ手前の値で補完する"
   ]
  },
  {
   "cell_type": "code",
   "execution_count": 4,
   "metadata": {},
   "outputs": [],
   "source": [
    "# scatterメソッドで分散(散布図)\n",
    "# barメソッドで棒グラフ\n",
    "# plotメソッドで折れ線グラフ\n",
    "# histメソッドでヒストグラム\n",
    "# boxplotメソッドで箱ひげ図\n",
    "# pieメソッドで円グラフ\n",
    "\n",
    "# stdメソッドは標準偏差\n",
    "# describeメソッドはデータ件数、平均値、標準偏差、最低値、第一四分位数、中央値、第三四分位数、最大値を求める\n",
    "# modeメソッドは最頻値\n",
    "# medianメソッドは中央値"
   ]
  },
  {
   "cell_type": "code",
   "execution_count": 5,
   "metadata": {},
   "outputs": [],
   "source": [
    "# DataFrameをNumPy配列に変換するにはvalues属性を使用する。ただし、この場合はインデックス名、カラム名は保持されない"
   ]
  },
  {
   "cell_type": "code",
   "execution_count": 6,
   "metadata": {},
   "outputs": [],
   "source": [
    "# フォントの設定を辞書データとして作成し、fontdict引数に一度に指定できる"
   ]
  },
  {
   "cell_type": "code",
   "execution_count": 7,
   "metadata": {},
   "outputs": [],
   "source": [
    "# y1とy2を足した値を格納する表現は、\n",
    "# 'y_total = [num1 + num2 for num1, num2 in zip(y1, y2)]'"
   ]
  },
  {
   "cell_type": "code",
   "execution_count": 9,
   "metadata": {},
   "outputs": [
    {
     "name": "stdout",
     "output_type": "stream",
     "text": [
      "51.53 - 55.62\n",
      "55.62 - 59.70\n",
      "59.70 - 63.78\n",
      "63.78 - 67.86\n",
      "67.86 - 71.94\n",
      "71.94 - 76.02\n",
      "76.02 - 80.11\n",
      "80.11 - 84.19\n",
      "84.19 - 88.27\n",
      "88.27 - 92.35\n",
      "92.35 - 96.43\n",
      "96.43 - 100.51\n",
      "100.51 - 104.59\n",
      "104.59 - 108.68\n",
      "108.68 - 112.76\n",
      "112.76 - 116.84\n",
      "116.84 - 120.92\n",
      "120.92 - 125.00\n",
      "125.00 - 129.08\n",
      "129.08 - 133.17\n",
      "133.17 - 137.25\n",
      "137.25 - 141.33\n",
      "141.33 - 145.41\n",
      "145.41 - 149.49\n",
      "149.49 - 153.57\n"
     ]
    },
    {
     "data": {
      "image/png": "[encoded data removed]",
      "text/plain": [
       "<Figure size 432x288 with 1 Axes>"
      ]
     },
     "metadata": {
      "needs_background": "light"
     },
     "output_type": "display_data"
    }
   ],
   "source": [
    "import numpy as np\n",
    "import matplotlib.pyplot as plt\n",
    "np.random.seed(123)\n",
    "mu = 100\n",
    "sigma = 15\n",
    "x = np.random.normal(mu, sigma, 1000)\n",
    "fig, ax = plt.subplots()\n",
    "n, bins, patches = ax.hist(x, bins = 25, orientation = 'horizontal')\n",
    "for i, num in enumerate(n):\n",
    "    print('{:.2f} - {:.2f}'.format(bins[i], bins[i + 1], num))\n",
    "\n",
    "plt.show()"
   ]
  },
  {
   "cell_type": "code",
   "execution_count": 1,
   "metadata": {},
   "outputs": [],
   "source": [
    "# 'counterclock = False'で時計回り、'counterclock = True'で反時計回り\n",
    "# 'ax.axis('equal')'でアスペクト比を保持して描画する"
   ]
  },
  {
   "cell_type": "code",
   "execution_count": 2,
   "metadata": {},
   "outputs": [],
   "source": [
    "# 分散正規化とは、特徴量の平均が0、標準偏差が1となるように特徴量を変換する処理\n",
    "\n",
    "# 最小最大正規化とは、特徴量の最小値が0、最大値が1を取るように特徴量を正規化する処理であり、\n",
    "# →scikit-learnでは、preprocessingモジュールのMinMaxSclarクラスを用いて実行することができる"
   ]
  },
  {
   "cell_type": "code",
   "execution_count": 3,
   "metadata": {},
   "outputs": [],
   "source": [
    "# 学習データセットとテストデータセットの分割は、scikit-learnでは、model_selectionモジュールのtrain_test_split関数を用いて実行できる\n",
    "\n",
    "# 分類はデータのクラスを予測して分けるタスクであり、既知のデータを教師として利用して各データをクラスに振り分けるモデルを学習する回帰と並んで教師あり学習の典型的なタスクである"
   ]
  },
  {
   "cell_type": "code",
   "execution_count": 4,
   "metadata": {},
   "outputs": [],
   "source": [
    "# サポートベクタマシンはマージンを最大にすることにより、決定境界を求める\n",
    "# →マージンを最大にする理由は、決定境界がサポートベクタから遠くなり、多少のデータが変わっても誤った分類を行う可能性を低くできると期待できるため\n",
    "\n",
    "# 決定木でデータを分割する時は、データの分割によってどれだけ得をするかについて考える\n",
    "# →これを情報利得と呼び、情報利得は親ノードの不純度から子ノードの不純度を差し引いたものとして定義される"
   ]
  },
  {
   "cell_type": "code",
   "execution_count": 5,
   "metadata": {},
   "outputs": [],
   "source": [
    "# 説明変数が1変数の時は単回帰、2変数以上の時は重回帰と呼ばれる\n",
    "# 線形回帰は、scikit-learnのlinear_modelモジュールのLinearRegressionクラスを用いて実行できる\n",
    "# Bostonデータセットには14個の特徴量(説明変数)があるので重回帰になる"
   ]
  },
  {
   "cell_type": "code",
   "execution_count": 6,
   "metadata": {},
   "outputs": [],
   "source": [
    "# 次元削減とは、データが持っている情報をなるべく損ねることなく次元を削減してデータを圧縮するタスク\n",
    "# 主成分分析は、高次元のデータに対して分散が大きくなる方向を探して、元の次元と同じかそれよりも低い次元にデータを変換する手法\n",
    "# 主成分分析は、scikit-learnのdecompositionモジュールのPCAクラスを用いて実行することができる"
   ]
  },
  {
   "cell_type": "code",
   "execution_count": 7,
   "metadata": {},
   "outputs": [],
   "source": [
    "# 機械学習を用いて構築した分類モデルの良し悪しを評価する指標に適合率、再現率、F値、正解率があり、これらは混合行列から計算する"
   ]
  },
  {
   "cell_type": "code",
   "execution_count": 8,
   "metadata": {},
   "outputs": [],
   "source": [
    "# 乱数シード値を指定しても決定木の深さの最適値は必ず同じ値にはならない"
   ]
  },
  {
   "cell_type": "code",
   "execution_count": 1,
   "metadata": {},
   "outputs": [],
   "source": [
    "# 凝集型の階層的クラスタリングは地味にコツコツとデータをまとめていくアプローチ\n",
    "# 分割型の階層的クラスタリングは最初にすべてのデータが1つのクラスタに所属していると考え、順次クラスタを分割していくアプローチ\n",
    "# 一般的に凝集型の方が計算量が少なくて精度が高いためよく利用されている？"
   ]
  },
  {
   "cell_type": "code",
   "execution_count": 2,
   "metadata": {},
   "outputs": [],
   "source": [
    "# 分類と回帰は教師あり学習\n",
    "# クラスタリングは教師なし学習\n",
    "\n",
    "# ニューラルネットワークを用いた深層学習は回帰に含まれる\n",
    "# 教師なし学習の1つであるDBSCAN法は密度準拠クラスタリングアルゴリズムであり、特徴量ベクトル間の距離に着眼した手法である"
   ]
  },
  {
   "cell_type": "code",
   "execution_count": 3,
   "metadata": {},
   "outputs": [],
   "source": [
    "# pipコマンドは、The Python Package Indexに公開されているPythonパッケージのインストールなどを行うユーティリティであり、パッケージをインストールするにはpip installコマンドを使用する\n",
    "# 作成したプログラムがPEP8に違反していないかチェックするツールとしてpycodestyleがある\n",
    "# Flake8は昔のバージョンの名前で、現在の名前はpycodestyleである"
   ]
  },
  {
   "cell_type": "code",
   "execution_count": 4,
   "metadata": {},
   "outputs": [],
   "source": [
    "# pickleモジュールは、Pythonのオブジェクトを直列化し、ファイルへの書き込み及び読み込みを可能にする\n",
    "# →(例えば、pandasのDataFrameそのままをファイルとして保存し、再利用したりすることができる)"
   ]
  },
  {
   "cell_type": "code",
   "execution_count": 1,
   "metadata": {},
   "outputs": [],
   "source": [
    "# loggingモジュールのログレベルには重要度の低い順にDEBUG、INFO、WARNING、ERROR、CRITICALの5種類がある"
   ]
  },
  {
   "cell_type": "code",
   "execution_count": 2,
   "metadata": {},
   "outputs": [],
   "source": [
    "# Jupyter Notebookはオープンソースで開発されているデータ分析、可視化、機械学習などに広く利用されるWebアプリケーションである"
   ]
  },
  {
   "cell_type": "code",
   "execution_count": 3,
   "metadata": {},
   "outputs": [],
   "source": [
    "# シグモイド関数のグラフの形は、座標点(0, 0.5)を基点として点対称のS字型曲線である\n",
    "# 対数関数において底が10の時は常用対数と呼ばれ、底がネイピア数の時は自然対数と呼ばれる"
   ]
  },
  {
   "cell_type": "code",
   "execution_count": 4,
   "metadata": {},
   "outputs": [],
   "source": [
    "# 行列同士の掛け算は行列となる。数値の掛け算と同じように行列の掛け算も順番を入れ替えても同じ結果になる"
   ]
  },
  {
   "cell_type": "code",
   "execution_count": 5,
   "metadata": {},
   "outputs": [],
   "source": [
    "# 1の対数は0である\n",
    "# 0の階乗は1である"
   ]
  },
  {
   "cell_type": "code",
   "execution_count": 6,
   "metadata": {},
   "outputs": [],
   "source": [
    "# 2次元のNumpy配列を1次元に変換するにはravelメソッドまたはflattenメソッドを使用する\n",
    "# →ravelメソッドは参照を返し、flattenメソッドはコピーを返す\n",
    "# ravelは処理が早く終わる傾向にあるがバグを生みやすい\n",
    "# flattenのほうが安全なため、使用されることが多い"
   ]
  },
  {
   "cell_type": "code",
   "execution_count": 7,
   "metadata": {},
   "outputs": [],
   "source": [
    "# Numpyは配列や行列を効率よく扱うためのPythonのサードパーティ製のパッケージで、配列用の型であるndarrayと行列用の型であるmatrixがある\n",
    "# →これらの配列や行列の要素のデータ型は1種類にそろえる必要があり、int16やfloat32などNumpy由来の専用の数値型を指定する"
   ]
  },
  {
   "cell_type": "code",
   "execution_count": 1,
   "metadata": {},
   "outputs": [
    {
     "name": "stdout",
     "output_type": "stream",
     "text": [
      "[[5 6]] (3,)\n"
     ]
    }
   ],
   "source": [
    "import numpy as np\n",
    "a = np.array([[1,2,3],[4,5,6]])\n",
    "b = np.array([7,8,9])\n",
    "print(a[-1:,[1,2]], b.shape)\n",
    "\n",
    "# 1次元配列の'shape'の表示には注意!!"
   ]
  },
  {
   "cell_type": "code",
   "execution_count": 2,
   "metadata": {},
   "outputs": [],
   "source": [
    "# pandasのデータの読み込みと書き込みの関数はほかにも'to_sql'や'to_json'などさまざまなものがある。ただし、pandasのバージョンによっても異なる\n",
    "\n",
    "# 'read_html'メソッドを使うと、WebサイトのHTML内のtable要素を直接DataFrameに取り込むことができる\n",
    "# →table要素が複数ある場合でも全て取得してくれる"
   ]
  },
  {
   "cell_type": "code",
   "execution_count": 3,
   "metadata": {},
   "outputs": [],
   "source": [
    "# DataFrameの各要素が欠損値かどうかを確かめるメソッドは、isnullである\n",
    "# 欠損値を最頻値で補完するには、\"データ名.fillna(データ名.mode().iloc[0,:])\"を使用する"
   ]
  },
  {
   "cell_type": "code",
   "execution_count": 4,
   "metadata": {},
   "outputs": [],
   "source": [
    "# 相関係数はcorr関数で出力でき、その値は必ず-1から1の間となる\n",
    "# →1に近いほど強い正の相関関係があり、-1に近いほど強い負の相関関係があり、0では相関関係がないといえる\n",
    "\n",
    "# pandasはNumpyを基盤にSeries(1次元データ)とDataFrame(2次元データ)というデータ型を提供している"
   ]
  },
  {
   "cell_type": "code",
   "execution_count": 5,
   "metadata": {},
   "outputs": [],
   "source": [
    "# オブジェクト指向スタイルは1つのfigureオブジェクトに対して複数のサブプロットを指定できる。つまり複数のグラフをまとめて表示できるという利点がある"
   ]
  },
  {
   "cell_type": "code",
   "execution_count": 6,
   "metadata": {},
   "outputs": [],
   "source": [
    "# ラジアンは弧度法と呼ばれる角度の単位のこと\n",
    "# 円の半径に等しい長さの弧に対する中心角の大きさが1ラジアンとなる\n",
    "# np.sin(x)、np.cos(x)は、それぞれ引数「x」を弧度法のラジアンで処理する"
   ]
  },
  {
   "cell_type": "code",
   "execution_count": 1,
   "metadata": {},
   "outputs": [],
   "source": [
    "# histメソッドのデフォルトのビン数は10です"
   ]
  },
  {
   "cell_type": "code",
   "execution_count": 2,
   "metadata": {},
   "outputs": [],
   "source": [
    "# 構築したモデルが持つ未知のデータに対する対応能力を「汎化能力」という"
   ]
  },
  {
   "cell_type": "code",
   "execution_count": 3,
   "metadata": {},
   "outputs": [],
   "source": [
    "# scikit-learnでランダムフォレストを実行するにはensambleモジュールのRadomForestClassifierクラスを使用する。パラメータで決定木の個数を指定することもできる"
   ]
  },
  {
   "cell_type": "code",
   "execution_count": 1,
   "metadata": {},
   "outputs": [],
   "source": [
    "# k-meansは、最初にランダムにクラスタ中心を割り当て、クラスタ中心を各データとの距離を計算しながら修正し、最終的なクラスタ中心が収束するまで再計算を行いクラスタリングする手法である"
   ]
  },
  {
   "cell_type": "code",
   "execution_count": 2,
   "metadata": {},
   "outputs": [],
   "source": [
    "# 機械学習を用いずにカテゴライズや数値予測を行う手段の1つとして、ルールベースがある。ルールベースではプログラミングの条件分岐の要領でデータを容易にルール化できるが、パラメータの数が増えると記述が困難になる"
   ]
  },
  {
   "cell_type": "code",
   "execution_count": 3,
   "metadata": {},
   "outputs": [],
   "source": [
    "# Anacondaで設定した環境下でパッケージ管理をする場合には、Anaconda独自のcondaコマンドのほか、pipも利用可能である\n",
    "# →ただし稀にcondaコマンドで構築された環境がpipの利用で壊されてしまうこともあるため、Anacondaを利用する場合は基本的にcondaコマンドでパッケージ管理することが望ましい"
   ]
  },
  {
   "cell_type": "code",
   "execution_count": 8,
   "metadata": {},
   "outputs": [
    {
     "data": {
      "text/plain": [
       "'hello python'"
      ]
     },
     "execution_count": 8,
     "metadata": {},
     "output_type": "execute_result"
    }
   ],
   "source": [
    "str = 'Hello Python'\n",
    "str.lower()"
   ]
  },
  {
   "cell_type": "code",
   "execution_count": 9,
   "metadata": {},
   "outputs": [
    {
     "data": {
      "text/plain": [
       "'Hi Python'"
      ]
     },
     "execution_count": 9,
     "metadata": {},
     "output_type": "execute_result"
    }
   ],
   "source": [
    "str.replace('Hello', 'Hi')"
   ]
  },
  {
   "cell_type": "code",
   "execution_count": 10,
   "metadata": {},
   "outputs": [
    {
     "data": {
      "text/plain": [
       "['Hello', 'Python']"
      ]
     },
     "execution_count": 10,
     "metadata": {},
     "output_type": "execute_result"
    }
   ],
   "source": [
    "str.split()"
   ]
  },
  {
   "cell_type": "code",
   "execution_count": 12,
   "metadata": {},
   "outputs": [
    {
     "name": "stderr",
     "output_type": "stream",
     "text": [
      "WARNING\n",
      "ERROR\n",
      "CRITICAL\n"
     ]
    }
   ],
   "source": [
    "import logging\n",
    "\n",
    "logging.basicConfig(\n",
    "format = '%(levelname)s'\n",
    ")\n",
    "\n",
    "logging.debug('デバッグレベル')\n",
    "logging.info('INFOレベル')\n",
    "logging.warning('警告レベル')\n",
    "logging.error('エラーレベル')\n",
    "logging.critical('重大なエラー')\n",
    "\n",
    "# デフォルト状態ではINFO、DEBUGは出力されない!!\n",
    "# INFO、DEBUGを出力するにはログレベルを指定する必要がある"
   ]
  },
  {
   "cell_type": "code",
   "execution_count": 1,
   "metadata": {},
   "outputs": [],
   "source": [
    "# マジックコマンドは大きく2つに分けられる\n",
    "# ラインマジック：コマンドの先頭に「%」が付く。引数はその行に収まっている必要がある\n",
    "# セルマジック：コマンドの先頭に「%%」が付く。引数は複数行にまたがっても大丈夫"
   ]
  },
  {
   "cell_type": "code",
   "execution_count": 2,
   "metadata": {},
   "outputs": [],
   "source": [
    "# Jupyter notebookがデータ分析や機械学習の分野でよく使われる理由として、1つのNotebookというドキュメントにPythonなどのプログラムとその結果やMarkdown記法のドキュメントなどをまとめられることのほか、コードの実行結果の表示は、通常の文字列に加え、表やグラフも可能であることなどが挙げあられる\n",
    "# Markdown記法：メモなどの記録媒体のもの？"
   ]
  },
  {
   "cell_type": "code",
   "execution_count": 3,
   "metadata": {},
   "outputs": [],
   "source": [
    "# Numpyでのスライスの結果は参照で返される"
   ]
  },
  {
   "cell_type": "code",
   "execution_count": 4,
   "metadata": {},
   "outputs": [],
   "source": [
    "# concatenate関数は配列の連結を行う\n",
    "# 'axis = 0'は行方向の処理\n",
    "# 'axis = 1'は列方向の処理"
   ]
  },
  {
   "cell_type": "code",
   "execution_count": 5,
   "metadata": {},
   "outputs": [],
   "source": [
    "# read_htmlメソッドを使うと、WebサイトのHTML内のtable要素をDataFrameに取り込むことができる。read_htmlの結果はDataFrameのリストになっており、table要素が複数ある場合もインデックス番号を指定することで目的のテーブルを取得できる"
   ]
  },
  {
   "cell_type": "code",
   "execution_count": 1,
   "metadata": {},
   "outputs": [
    {
     "name": "stdout",
     "output_type": "stream",
     "text": [
      "[6 4 4 1 6]\n"
     ]
    }
   ],
   "source": [
    "import numpy as np\n",
    "\n",
    "a = np.random.randint(1, 10, 5)\n",
    "print(a)"
   ]
  },
  {
   "cell_type": "code",
   "execution_count": 2,
   "metadata": {},
   "outputs": [],
   "source": [
    "# fillnaメソッドにmethod = 'ffill'を与えると、欠損値を1つ手前の値で補完する\n",
    "# fillnaメソッドにmethod = 'bfill'を与えると、欠損値を1つ後方の値で補完する\n",
    "# 欠損値が存在する行を削除するメソッドはdropnaである"
   ]
  },
  {
   "cell_type": "code",
   "execution_count": 3,
   "metadata": {},
   "outputs": [],
   "source": [
    "# quartileメソッドは存在しない!!(ひっかけ問題)\n",
    "\n",
    "# quantileメソッドはデフォルトでは数値列の中央値を'pandas.Series'形式で返す"
   ]
  },
  {
   "cell_type": "code",
   "execution_count": 4,
   "metadata": {},
   "outputs": [],
   "source": [
    "# 棒グラフとは異なり、ヒストグラムでは複数の値を指定すると、自動的に横に並んだ状態で表示される"
   ]
  },
  {
   "cell_type": "code",
   "execution_count": 5,
   "metadata": {},
   "outputs": [],
   "source": [
    "# 散布図では、デフォルトではそれぞれのマーカーは丸で描画されるが、marker引数にマーカーの形を指定することにより、様々な形のマーカーを使用することができる"
   ]
  },
  {
   "cell_type": "code",
   "execution_count": 7,
   "metadata": {},
   "outputs": [
    {
     "data": {
      "image/png": "[encoded data removed]",
      "text/plain": [
       "<Figure size 432x288 with 2 Axes>"
      ]
     },
     "metadata": {
      "needs_background": "light"
     },
     "output_type": "display_data"
    }
   ],
   "source": [
    "import matplotlib.pyplot as plt\n",
    "fig, axes = plt.subplots(2)\n",
    "plt.show()"
   ]
  },
  {
   "cell_type": "code",
   "execution_count": 8,
   "metadata": {},
   "outputs": [
    {
     "data": {
      "image/png": "[encoded data removed]",
      "text/plain": [
       "<Figure size 432x288 with 4 Axes>"
      ]
     },
     "metadata": {
      "needs_background": "light"
     },
     "output_type": "display_data"
    }
   ],
   "source": [
    "fig, axes = plt.subplots(2, 2)\n",
    "plt.show()"
   ]
  },
  {
   "cell_type": "code",
   "execution_count": 9,
   "metadata": {},
   "outputs": [
    {
     "data": {
      "image/png": "[encoded data removed]",
      "text/plain": [
       "<Figure size 432x288 with 3 Axes>"
      ]
     },
     "metadata": {
      "needs_background": "light"
     },
     "output_type": "display_data"
    }
   ],
   "source": [
    "fig, axes = plt.subplots(ncols = 3)\n",
    "plt.show()"
   ]
  },
  {
   "cell_type": "code",
   "execution_count": 10,
   "metadata": {},
   "outputs": [],
   "source": [
    "# ヒストグラム(histメソッド)のデフォルトのビン数は10\n",
    "# histメソッドの引数に「orientation = 'horizontal'」と指定すると、横向きのヒストグラムを描画できる"
   ]
  },
  {
   "cell_type": "code",
   "execution_count": 11,
   "metadata": {},
   "outputs": [
    {
     "name": "stdout",
     "output_type": "stream",
     "text": [
      "51.53 - 55.62 2.0\n",
      "55.62 - 59.70 3.0\n",
      "59.70 - 63.78 6.0\n",
      "63.78 - 67.86 7.0\n",
      "67.86 - 71.94 16.0\n",
      "71.94 - 76.02 29.0\n",
      "76.02 - 80.11 37.0\n",
      "80.11 - 84.19 65.0\n",
      "84.19 - 88.27 57.0\n",
      "88.27 - 92.35 90.0\n",
      "92.35 - 96.43 105.0\n",
      "96.43 - 100.51 115.0\n",
      "100.51 - 104.59 116.0\n",
      "104.59 - 108.68 78.0\n",
      "108.68 - 112.76 74.0\n",
      "112.76 - 116.84 77.0\n",
      "116.84 - 120.92 42.0\n",
      "120.92 - 125.00 41.0\n",
      "125.00 - 129.08 21.0\n",
      "129.08 - 133.17 10.0\n",
      "133.17 - 137.25 4.0\n",
      "137.25 - 141.33 2.0\n",
      "141.33 - 145.41 2.0\n",
      "145.41 - 149.49 0.0\n",
      "149.49 - 153.57 1.0\n"
     ]
    },
    {
     "data": {
      "image/png": "[encoded data removed]",
      "text/plain": [
       "<Figure size 432x288 with 1 Axes>"
      ]
     },
     "metadata": {
      "needs_background": "light"
     },
     "output_type": "display_data"
    }
   ],
   "source": [
    "import numpy as np\n",
    "import matplotlib.pyplot as plt\n",
    "np.random.seed(123)\n",
    "mu = 100\n",
    "sigma = 15\n",
    "x = np.random.normal(mu, sigma, 1000)\n",
    "fig, ax = plt.subplots()\n",
    "n, bins, patches = ax.hist(x, bins=25, orientation='horizontal')\n",
    "for i, num in enumerate(n):\n",
    "    \n",
    "    # 度数分布表を出力\n",
    "    print('{:.2f} - {:.2f} {}'.format(bins[i], bins[i + 1], num))\n",
    "\n",
    "plt.show()"
   ]
  },
  {
   "cell_type": "code",
   "execution_count": 12,
   "metadata": {},
   "outputs": [],
   "source": [
    "# 特徴量の正規化とは、例えば、ある特徴量の値が4桁の数値(数千のオーダ)、別の特徴量の値が2桁の数値(数十のオーダ)のような場合、前者のオーダの特徴量が重視されやすくなるため、尺度を揃える処理をいう\n",
    "# One-hotエンコーディングはダミー変数化、生成された別の変数はダミー変数とも呼ばれ、scikit-learnでは、preprocessingモジュールのOneHotEncoderクラスを使用して実行できる\n",
    "# →pandasを用いる場合は、get_dummies関数を使用する"
   ]
  },
  {
   "cell_type": "code",
   "execution_count": 13,
   "metadata": {},
   "outputs": [],
   "source": [
    "# 学習データセットとテストデータセットの分割は、scikit-learnでは、model_selectionモジュールのtrain_test_split関数を用いて実行できる\n",
    "# →train_test_split関数の第1引数には説明変数(特徴量)を表すNumpy配列やpandasのDataFrameを、第2引数には目的変数を表すNumpy配列を指定する"
   ]
  },
  {
   "cell_type": "code",
   "execution_count": 14,
   "metadata": {},
   "outputs": [],
   "source": [
    "# ランダムフォレストは、データのサンプルと特徴量をランダムに選択して決定木を構築する処理を複数回繰り返し、各木の推定結果の多数決や平均値により分類・回帰を行う手法である"
   ]
  },
  {
   "cell_type": "code",
   "execution_count": 1,
   "metadata": {},
   "outputs": [],
   "source": [
    "# 適合率、再現率、F値、正解率は、機械学習を用いて構築した分類モデルの良し悪しを評価する指標であり、混合行列から計算する"
   ]
  },
  {
   "cell_type": "code",
   "execution_count": 2,
   "metadata": {},
   "outputs": [],
   "source": [
    "# 正解率：正例か負例かを問わず、予測と実績が一致したデータの割合。正解率 = (tp + tn)/(tp + fp + fn + tn)\n",
    "\n",
    "# 適合率：正例と予測したデータのうち、実際に正例の割合を表す。適合率が高いほど、正例と予測して実際に正例であったデータの割合が値ことを表す\n",
    "# →そのため、適合率は予測するクラスをなるべく間違えないようにしたいときに重視する指標。適合率 = tp / (tp + fp)\n",
    "\n",
    "# 再現率：実際の正例のうち、正例と予測したものの割合を表す。再現率 = tp / (tp + fn)\n",
    "\n",
    "# F値：適合率と再現率の調和平均。一般的に適合率と再現率はトレードオフの関係にある。つまり、どちらか一方の指標を高くすると、もう一方の指標は低くなる。\n",
    "# →F値は適合率と再現率の調和平均をとることにより、両方の指標がバランスの良い値になることを目指すときに重視する指標\n",
    "# →F値 = 2 / (1 / 適合率 + 1 / 再現率) = 2 * 適合率 * 再現率 / (適合率 + 再現率)"
   ]
  },
  {
   "cell_type": "code",
   "execution_count": 1,
   "metadata": {},
   "outputs": [],
   "source": [
    "# クラスタリングは、ある基準を設定してデータ間の類似性を計算し、データをクラスタ(グループ)にまとめるタスクであり、教師なし学習の典型的なたすく"
   ]
  },
  {
   "cell_type": "code",
   "execution_count": 4,
   "metadata": {},
   "outputs": [
    {
     "data": {
      "text/plain": [
       "array([[0.78646166, 0.6397865 ],\n",
       "       [0.28050533, 0.1310407 ],\n",
       "       [0.93395527, 0.88873944]])"
      ]
     },
     "execution_count": 4,
     "metadata": {},
     "output_type": "execute_result"
    }
   ],
   "source": [
    "# np.random.random関数は、行と列のタプルを渡すと0以上、1未満の範囲の乱数の2次元配列を生成する\n",
    "# random関数では行と列のタプルを渡す\n",
    "\n",
    "import numpy as np\n",
    "np.random.random((3, 2))"
   ]
  },
  {
   "cell_type": "code",
   "execution_count": 5,
   "metadata": {},
   "outputs": [
    {
     "data": {
      "text/plain": [
       "array([[0.33074434, 0.52495827],\n",
       "       [0.91067281, 0.01964787],\n",
       "       [0.7162443 , 0.17767758],\n",
       "       [0.89070945, 0.89592559]])"
      ]
     },
     "execution_count": 5,
     "metadata": {},
     "output_type": "execute_result"
    }
   ],
   "source": [
    "# np.random.rand関数は0～1の範囲の乱数の配列を生成する\n",
    "# rand関数では2つの引数で形状を渡す\n",
    "\n",
    "import numpy as np\n",
    "np.random.rand(4, 2)"
   ]
  },
  {
   "cell_type": "code",
   "execution_count": 1,
   "metadata": {},
   "outputs": [],
   "source": [
    "# オブジェクトを確認するにはtype関数を使用する"
   ]
  },
  {
   "cell_type": "code",
   "execution_count": 2,
   "metadata": {},
   "outputs": [],
   "source": [
    "# 次元の変換を行うにはreshapeメソッドを使用する。要素の数が合わない場合はエラー(ValueError)が送出される"
   ]
  },
  {
   "cell_type": "code",
   "execution_count": 3,
   "metadata": {},
   "outputs": [],
   "source": [
    "# dtype属性を使って、Numpy配列の要素のデータ型を確認できる\n",
    "# データ作成の際にデータ型を宣言していない場合、自動で'np.int64'が割り当てられる\n",
    "\n",
    "# intは整数、floatは浮動小数点数"
   ]
  },
  {
   "cell_type": "code",
   "execution_count": 4,
   "metadata": {},
   "outputs": [
    {
     "data": {
      "text/plain": [
       "1"
      ]
     },
     "execution_count": 4,
     "metadata": {},
     "output_type": "execute_result"
    }
   ],
   "source": [
    "# インデックス\n",
    "\n",
    "import numpy as np\n",
    "a = np.array([1, 2, 3])\n",
    "a[0]"
   ]
  },
  {
   "cell_type": "code",
   "execution_count": 5,
   "metadata": {},
   "outputs": [
    {
     "data": {
      "text/plain": [
       "array([2])"
      ]
     },
     "execution_count": 5,
     "metadata": {},
     "output_type": "execute_result"
    }
   ],
   "source": [
    "# スライス\n",
    "\n",
    "import numpy as np\n",
    "a = np.array([1, 2, 3])\n",
    "a[1:2]"
   ]
  },
  {
   "cell_type": "code",
   "execution_count": 8,
   "metadata": {},
   "outputs": [
    {
     "data": {
      "text/plain": [
       "array([0, 1, 2, 3, 4, 5, 6, 7, 8, 9])"
      ]
     },
     "execution_count": 8,
     "metadata": {},
     "output_type": "execute_result"
    }
   ],
   "source": [
    "# 'arange'は数列を返す\n",
    "\n",
    "np.arange(10)"
   ]
  },
  {
   "cell_type": "code",
   "execution_count": 9,
   "metadata": {},
   "outputs": [
    {
     "data": {
      "text/plain": [
       "array([2, 4, 6])"
      ]
     },
     "execution_count": 9,
     "metadata": {},
     "output_type": "execute_result"
    }
   ],
   "source": [
    "np.arange(2, 7, 2)"
   ]
  },
  {
   "cell_type": "code",
   "execution_count": 10,
   "metadata": {},
   "outputs": [],
   "source": [
    "# 「np.random.seed(123)」などと指定すると、乱数のシード値を固定し、毎回同じ結果が出力されるようになる"
   ]
  },
  {
   "cell_type": "code",
   "execution_count": 12,
   "metadata": {},
   "outputs": [
    {
     "data": {
      "text/plain": [
       "array([[1, 2, 3],\n",
       "       [3, 3, 3]])"
      ]
     },
     "execution_count": 12,
     "metadata": {},
     "output_type": "execute_result"
    }
   ],
   "source": [
    "# np.random.randint関数は、第1引数以上かつ第2引数未満のランダムな整数値を、第3引数としてタプルで渡した行と列の2次元配列で生成する\n",
    "\n",
    "np.random.randint(1, 4, (2, 3))"
   ]
  },
  {
   "cell_type": "code",
   "execution_count": 13,
   "metadata": {},
   "outputs": [
    {
     "data": {
      "text/plain": [
       "array([[3.02219204, 3.76314327, 3.28904519],\n",
       "       [2.41913416, 2.5949195 , 0.45656767],\n",
       "       [1.21544618, 2.56655871, 3.95854571]])"
      ]
     },
     "execution_count": 13,
     "metadata": {},
     "output_type": "execute_result"
    }
   ],
   "source": [
    "# np.random.uniform関数は、第1引数以上かつ第2引数未満のランダムな小数値を、第3引数としてタプルで渡した行と列の2次元配列で生成する\n",
    "# →数値の範囲を指定していない場合はデフォルト値である0.0以上、1.0未満の行と列を指定された2次元配列を生成する\n",
    "\n",
    "np.random.uniform(0.0, 4.0, size = (3, 3))"
   ]
  },
  {
   "cell_type": "code",
   "execution_count": 14,
   "metadata": {},
   "outputs": [
    {
     "data": {
      "text/plain": [
       "array([[0.81574416, 0.57157653],\n",
       "       [0.85098277, 0.05242136]])"
      ]
     },
     "execution_count": 14,
     "metadata": {},
     "output_type": "execute_result"
    }
   ],
   "source": [
    "np.random.uniform(size = (2, 2))"
   ]
  },
  {
   "cell_type": "code",
   "execution_count": 15,
   "metadata": {},
   "outputs": [
    {
     "data": {
      "text/plain": [
       "array([[-0.04654741,  1.23470496, -0.47911029],\n",
       "       [-0.29952426,  0.34746072, -0.61869334]])"
      ]
     },
     "execution_count": 15,
     "metadata": {},
     "output_type": "execute_result"
    }
   ],
   "source": [
    "# np.random.randnは、np.random.randと同様に、引数に形状を渡す。出力される乱数が標準正規分布に従い、平均0、分散1の分布で出力される\n",
    "\n",
    "np.random.randn(2, 3)"
   ]
  },
  {
   "cell_type": "code",
   "execution_count": 16,
   "metadata": {},
   "outputs": [
    {
     "data": {
      "text/plain": [
       "nan"
      ]
     },
     "execution_count": 16,
     "metadata": {},
     "output_type": "execute_result"
    }
   ],
   "source": [
    "# nanは、Not a Numberの略。数値ではないということを宣言しているが、データ型としてはfloatに分類される\n",
    "# →Numpyのndarrayは、同じデータ型のみが格納できる。さらに計算を行うためには、PythonのNoneや空文字列などでは計算不可能となる\n",
    "# →これらのために、np.nanが特殊な定数として準備されている\n",
    "\n",
    "np.nan"
   ]
  },
  {
   "cell_type": "code",
   "execution_count": 17,
   "metadata": {},
   "outputs": [
    {
     "data": {
      "text/plain": [
       "array([ 1.,  2., nan])"
      ]
     },
     "execution_count": 17,
     "metadata": {},
     "output_type": "execute_result"
    }
   ],
   "source": [
    "np.array([1, 2, np.nan])"
   ]
  },
  {
   "cell_type": "code",
   "execution_count": 18,
   "metadata": {},
   "outputs": [
    {
     "data": {
      "text/plain": [
       "array([ 3,  2,  1, -5])"
      ]
     },
     "execution_count": 18,
     "metadata": {},
     "output_type": "execute_result"
    }
   ],
   "source": [
    "# np.diffは、要素間の差分を返す\n",
    "\n",
    "g = np.array([1, 4, 6, 7, 2])\n",
    "np.diff(g)"
   ]
  },
  {
   "cell_type": "code",
   "execution_count": 19,
   "metadata": {},
   "outputs": [],
   "source": [
    "# hsplit関数は列方向に分割\n",
    "# vsplit関数は行方向に分割"
   ]
  },
  {
   "cell_type": "code",
   "execution_count": 20,
   "metadata": {},
   "outputs": [
    {
     "data": {
      "text/plain": [
       "array([[1, 2, 3],\n",
       "       [4, 5, 6]])"
      ]
     },
     "execution_count": 20,
     "metadata": {},
     "output_type": "execute_result"
    }
   ],
   "source": [
    "# 転置：2次元配列の行と列を入れ替えること。転置にはTを使う\n",
    "\n",
    "s = np.array([[1, 2, 3], [4, 5, 6]])\n",
    "s"
   ]
  },
  {
   "cell_type": "code",
   "execution_count": 21,
   "metadata": {},
   "outputs": [
    {
     "data": {
      "text/plain": [
       "array([[1, 4],\n",
       "       [2, 5],\n",
       "       [3, 6]])"
      ]
     },
     "execution_count": 21,
     "metadata": {},
     "output_type": "execute_result"
    }
   ],
   "source": [
    "s.T"
   ]
  },
  {
   "cell_type": "code",
   "execution_count": null,
   "metadata": {},
   "outputs": [],
   "source": []
  }
 ],
 "metadata": {
  "kernelspec": {
   "display_name": "Python 3",
   "language": "python",
   "name": "python3"
  },
  "language_info": {
   "codemirror_mode": {
    "name": "ipython",
    "version": 3
   },
   "file_extension": ".py",
   "mimetype": "text/x-python",
   "name": "python",
   "nbconvert_exporter": "python",
   "pygments_lexer": "ipython3",
   "version": "3.8.5"
  }
 },
 "nbformat": 4,
 "nbformat_minor": 4
}
